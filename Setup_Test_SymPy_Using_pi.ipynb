{
 "cells": [
  {
   "cell_type": "code",
   "execution_count": null,
   "id": "7c1dc71f",
   "metadata": {},
   "outputs": [],
   "source": [
    "import sympy as sp"
   ]
  },
  {
   "cell_type": "code",
   "execution_count": null,
   "id": "a1bac49c",
   "metadata": {},
   "outputs": [],
   "source": [
    "x = 5"
   ]
  },
  {
   "cell_type": "code",
   "execution_count": null,
   "id": "9620c820",
   "metadata": {},
   "outputs": [],
   "source": [
    "print(x)"
   ]
  },
  {
   "cell_type": "code",
   "execution_count": null,
   "id": "a30f2283",
   "metadata": {},
   "outputs": [],
   "source": [
    "x, y, z = sp.symbols('x y z')"
   ]
  },
  {
   "cell_type": "code",
   "execution_count": null,
   "id": "fb62682c",
   "metadata": {},
   "outputs": [],
   "source": [
    "print(x, y, z)"
   ]
  },
  {
   "cell_type": "code",
   "execution_count": null,
   "id": "0a8fee7e",
   "metadata": {},
   "outputs": [],
   "source": [
    "x"
   ]
  },
  {
   "cell_type": "code",
   "execution_count": null,
   "id": "aae0f319",
   "metadata": {},
   "outputs": [],
   "source": [
    "type(x)"
   ]
  },
  {
   "cell_type": "code",
   "execution_count": null,
   "id": "08d0b2f8",
   "metadata": {},
   "outputs": [],
   "source": [
    "sp.pi"
   ]
  },
  {
   "cell_type": "code",
   "execution_count": null,
   "id": "c5b56d13",
   "metadata": {},
   "outputs": [],
   "source": [
    "print(sp.pi)"
   ]
  },
  {
   "cell_type": "code",
   "execution_count": null,
   "id": "906a490c",
   "metadata": {},
   "outputs": [],
   "source": [
    "sp.pi.evalf()"
   ]
  },
  {
   "cell_type": "code",
   "execution_count": null,
   "id": "cbdc0553",
   "metadata": {},
   "outputs": [],
   "source": [
    "len(str(sp.pi.evalf()))"
   ]
  },
  {
   "cell_type": "code",
   "execution_count": null,
   "id": "f576d29a",
   "metadata": {},
   "outputs": [],
   "source": [
    "sp.pi.evalf(38)"
   ]
  },
  {
   "cell_type": "code",
   "execution_count": null,
   "id": "58270442",
   "metadata": {},
   "outputs": [],
   "source": [
    "sp_pi_38 = sp.pi.evalf(38)"
   ]
  },
  {
   "cell_type": "code",
   "execution_count": null,
   "id": "c2c3dc7c",
   "metadata": {},
   "outputs": [],
   "source": [
    "print(sp_pi_38)"
   ]
  },
  {
   "cell_type": "code",
   "execution_count": null,
   "id": "76eb5983",
   "metadata": {},
   "outputs": [],
   "source": [
    "len(str(sp_pi_38))"
   ]
  },
  {
   "cell_type": "markdown",
   "id": "fcadd871",
   "metadata": {},
   "source": [
    "Is that accurate, humm, let's check here? https://math.tools/numbers/pi/37\n",
    "First 37 digits, in this case after the decimal:\n",
    "3.141592653589793238462643383279502884197\n",
    "Why is pi behaving so irrationally?"
   ]
  },
  {
   "cell_type": "markdown",
   "id": "1a97a796",
   "metadata": {},
   "source": [
    "Does Python have a built in pi?"
   ]
  },
  {
   "cell_type": "code",
   "execution_count": null,
   "id": "65e5ddde",
   "metadata": {},
   "outputs": [],
   "source": [
    "# pi # will this work?"
   ]
  },
  {
   "cell_type": "code",
   "execution_count": null,
   "id": "67922fe5",
   "metadata": {},
   "outputs": [],
   "source": [
    "import math"
   ]
  },
  {
   "cell_type": "code",
   "execution_count": null,
   "id": "81e662b3",
   "metadata": {},
   "outputs": [],
   "source": [
    "math_pi = math.pi\n",
    "sp_pi = sp.pi"
   ]
  },
  {
   "cell_type": "code",
   "execution_count": null,
   "id": "9d868b14",
   "metadata": {},
   "outputs": [],
   "source": [
    "math_pi - sp_pi"
   ]
  },
  {
   "cell_type": "markdown",
   "id": "1b1f3609",
   "metadata": {},
   "source": [
    "Why isn't this 0, how do I get a number?"
   ]
  },
  {
   "cell_type": "code",
   "execution_count": null,
   "id": "03163ade",
   "metadata": {},
   "outputs": [],
   "source": [
    "math_pi - sp.pi.evalf()"
   ]
  },
  {
   "cell_type": "markdown",
   "id": "02459aea",
   "metadata": {},
   "source": [
    "What if I need more precision?"
   ]
  },
  {
   "cell_type": "code",
   "execution_count": null,
   "id": "234ffdab",
   "metadata": {},
   "outputs": [],
   "source": [
    "math_pi - sp.pi.evalf(16)"
   ]
  },
  {
   "cell_type": "code",
   "execution_count": null,
   "id": "6cdb193d",
   "metadata": {},
   "outputs": [],
   "source": [
    "print(f'{math.pi:.16f}')\n",
    "print(sp.pi.evalf(17))"
   ]
  },
  {
   "cell_type": "code",
   "execution_count": null,
   "id": "b4e6c3ff",
   "metadata": {},
   "outputs": [],
   "source": [
    "type(math_pi)"
   ]
  },
  {
   "cell_type": "code",
   "execution_count": null,
   "id": "51001fd9",
   "metadata": {},
   "outputs": [],
   "source": [
    "type(sp_pi)"
   ]
  },
  {
   "cell_type": "code",
   "execution_count": null,
   "id": "d3f35173",
   "metadata": {},
   "outputs": [],
   "source": [
    "sp.pi.evalf(100) - float(f'{math.pi:.99f}')"
   ]
  },
  {
   "cell_type": "markdown",
   "id": "fbaa4ae0",
   "metadata": {},
   "source": [
    "What is happening here, well it's how computers do floating point math, and store stings, that is, things are rounded, so errors are introduced."
   ]
  },
  {
   "cell_type": "markdown",
   "id": "b67b23bd",
   "metadata": {},
   "source": [
    "Let me show you what I mean."
   ]
  },
  {
   "cell_type": "code",
   "execution_count": null,
   "id": "5d8fe35d",
   "metadata": {},
   "outputs": [],
   "source": [
    "1.1 + 1.3"
   ]
  },
  {
   "cell_type": "markdown",
   "id": "80deb700",
   "metadata": {},
   "source": [
    "How about a somewhat practical example, somewhat...."
   ]
  },
  {
   "cell_type": "markdown",
   "id": "5e42be28",
   "metadata": {},
   "source": [
    "Where is Voyager1 https://voyager.jpl.nasa.gov/mission/status/  "
   ]
  },
  {
   "cell_type": "code",
   "execution_count": null,
   "id": "0edff0ec",
   "metadata": {},
   "outputs": [],
   "source": [
    "voyager_range_km = 24000000000 # so about 24 billion km"
   ]
  },
  {
   "cell_type": "code",
   "execution_count": null,
   "id": "8f78b9ba",
   "metadata": {},
   "outputs": [],
   "source": [
    "circumference_sp_pi = 2* sp.pi * (voyager_range_km)"
   ]
  },
  {
   "cell_type": "code",
   "execution_count": null,
   "id": "9c19d2cc",
   "metadata": {},
   "outputs": [],
   "source": [
    "circumference_sp_pi # symbolic math"
   ]
  },
  {
   "cell_type": "code",
   "execution_count": null,
   "id": "3bc3d681",
   "metadata": {},
   "outputs": [],
   "source": [
    "circumference_sp_pi.evalf() #now we have a decimal number!"
   ]
  },
  {
   "cell_type": "code",
   "execution_count": null,
   "id": "c9ae8884",
   "metadata": {},
   "outputs": [],
   "source": [
    "circumference_math_pi = 2 * math.pi * (voyager_range_km)"
   ]
  },
  {
   "cell_type": "code",
   "execution_count": null,
   "id": "2c6fb0a3",
   "metadata": {},
   "outputs": [],
   "source": [
    "circumference_math_pi"
   ]
  },
  {
   "cell_type": "markdown",
   "id": "f8853000",
   "metadata": {},
   "source": [
    "What is that in number it's hard to read, \n",
    "Let's make python do the work by formatting with a comma!"
   ]
  },
  {
   "cell_type": "code",
   "execution_count": null,
   "id": "6ea2f8c3",
   "metadata": {},
   "outputs": [],
   "source": [
    "print(f'{circumference_math_pi:,.2f}')"
   ]
  },
  {
   "cell_type": "markdown",
   "id": "5ca14162",
   "metadata": {},
   "source": [
    "Let me see... \n",
    "## 150,796,447,372 # > 150 Billion km!  That is a big circle...."
   ]
  },
  {
   "cell_type": "code",
   "execution_count": null,
   "id": "91d3a707",
   "metadata": {},
   "outputs": [],
   "source": [
    "diff_pies_math = circumference_sp_pi.evalf() - circumference_math_pi"
   ]
  },
  {
   "cell_type": "code",
   "execution_count": null,
   "id": "a84827f0",
   "metadata": {},
   "outputs": [],
   "source": [
    "diff_pies_math.evalf() # in km"
   ]
  },
  {
   "cell_type": "code",
   "execution_count": null,
   "id": "81467e13",
   "metadata": {},
   "outputs": [],
   "source": [
    "f'{diff_pies_math}' # in km"
   ]
  },
  {
   "cell_type": "code",
   "execution_count": null,
   "id": "c1ddd03c",
   "metadata": {},
   "outputs": [],
   "source": [
    "diff_pies_math * 100000 # in cm"
   ]
  },
  {
   "cell_type": "markdown",
   "id": "05d72117",
   "metadata": {},
   "source": [
    "So ~2.54 cm per inch that difference is just over an inch, why do I even care to use symbolic py, for my pi?"
   ]
  },
  {
   "cell_type": "code",
   "execution_count": null,
   "id": "b74832c2",
   "metadata": {},
   "outputs": [],
   "source": [
    "diff_pies_sp = circumference_sp_pi.evalf(38) - circumference_sp_pi.evalf(37)\n",
    "diff_pies_sp"
   ]
  },
  {
   "cell_type": "markdown",
   "id": "0bb3309c",
   "metadata": {},
   "source": [
    "What does pi to 38 digits mean?\n",
    "Let's use the best guess estimate of the diameter of the known universe ~8.8×10^26 meters or 8.8x10^23 kilometers"
   ]
  },
  {
   "cell_type": "code",
   "execution_count": null,
   "id": "6ce5a528",
   "metadata": {},
   "outputs": [],
   "source": [
    "known_universe_radius_km = 8.8e+23/2 # radius is diameter devided by 2!"
   ]
  },
  {
   "cell_type": "code",
   "execution_count": null,
   "id": "a6b6a06b",
   "metadata": {},
   "outputs": [],
   "source": [
    "known_universe_radius_km"
   ]
  },
  {
   "cell_type": "code",
   "execution_count": null,
   "id": "4b427892",
   "metadata": {},
   "outputs": [],
   "source": [
    "circumference_sp_pi_more = 2* sp.pi.evalf(38) * (known_universe_radius_km)\n",
    "circumference_sp_pi_more"
   ]
  },
  {
   "cell_type": "code",
   "execution_count": null,
   "id": "97a7012f",
   "metadata": {},
   "outputs": [],
   "source": [
    "circumference_sp_pi_less = 2* sp.pi.evalf(37) * (known_universe_radius_km)\n",
    "circumference_sp_pi_less"
   ]
  },
  {
   "cell_type": "code",
   "execution_count": null,
   "id": "afb68a12",
   "metadata": {},
   "outputs": [],
   "source": [
    "diff_pies = circumference_sp_pi_less - circumference_sp_pi_more\n",
    "diff_pies # in km!"
   ]
  },
  {
   "cell_type": "code",
   "execution_count": null,
   "id": "d1b539bb",
   "metadata": {},
   "outputs": [],
   "source": [
    "abs_diff_pies = abs(diff_pies) * 1e+15 # kilometers (km) to picometers (pm)"
   ]
  },
  {
   "cell_type": "code",
   "execution_count": null,
   "id": "2cac28fe",
   "metadata": {},
   "outputs": [],
   "source": [
    "type(abs_diff_pies)"
   ]
  },
  {
   "cell_type": "code",
   "execution_count": null,
   "id": "d50f14e4",
   "metadata": {},
   "outputs": [],
   "source": [
    "abs_diff_pies.evalf(3) # pm"
   ]
  },
  {
   "cell_type": "markdown",
   "id": "19125c03",
   "metadata": {},
   "source": [
    "   How big is ~3.55 pm?\n",
    "   https://www.periodic-table.org/Hydrogen-atomic-radius/"
   ]
  },
  {
   "cell_type": "markdown",
   "id": "950684a7",
   "metadata": {},
   "source": [
    "## Summary:\n",
    "* SymPy represents values, including irrational numbers like pi, as symbols\n",
    "* SymPy can do all kinds of math like Algebra, Geometry and The Calculus\n",
    "* When working with values, sometimes symbolic representations is better, and more accurate.\n",
    "* Voyager 1 is very far away, pi to 15 digits, was accurate to about 3.55cm or just over an inch at that distance\n",
    "* The know universe is HUGE! Pi to 38 digits was less than the radius of a hydrogen atom at that distance\n",
    "* Pi is know to over a billion digits, mathematicians are very interested in that\n",
    "* Other scientests use pi to determine other quantities"
   ]
  },
  {
   "cell_type": "markdown",
   "id": "797cb40a",
   "metadata": {},
   "source": [
    "## Extra Credit:\n",
    "\n",
    "Create a loop in python that changes the evalf(value) to see how quickly small changes in the number of digits of pi equate to changes in the size of pm.  Put those values into a table."
   ]
  },
  {
   "cell_type": "code",
   "execution_count": null,
   "id": "d258b6ee",
   "metadata": {},
   "outputs": [],
   "source": []
  }
 ],
 "metadata": {
  "kernelspec": {
   "display_name": "Python 3 (ipykernel)",
   "language": "python",
   "name": "python3"
  },
  "language_info": {
   "codemirror_mode": {
    "name": "ipython",
    "version": 3
   },
   "file_extension": ".py",
   "mimetype": "text/x-python",
   "name": "python",
   "nbconvert_exporter": "python",
   "pygments_lexer": "ipython3",
   "version": "3.11.2"
  }
 },
 "nbformat": 4,
 "nbformat_minor": 5
}
